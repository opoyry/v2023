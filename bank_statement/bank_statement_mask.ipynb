{
	"metadata": {
		"kernelspec": {
			"name": "glue_pyspark",
			"display_name": "Glue PySpark",
			"language": "python"
		},
		"language_info": {
			"name": "Python_Glue_Session",
			"mimetype": "text/x-python",
			"codemirror_mode": {
				"name": "python",
				"version": 3
			},
			"pygments_lexer": "python3",
			"file_extension": ".py"
		}
	},
	"nbformat_minor": 4,
	"nbformat": 4,
	"cells": [
		{
			"cell_type": "markdown",
			"source": "# AWS Glue Studio Notebook\n##### You are now running a AWS Glue Studio notebook; To start using your notebook you need to start an AWS Glue Interactive Session.\n",
			"metadata": {
				"editable": true,
				"trusted": true
			}
		},
		{
			"cell_type": "markdown",
			"source": "#### Optional: Run this cell to see available notebook commands (\"magics\").\n",
			"metadata": {
				"editable": true,
				"trusted": true
			}
		},
		{
			"cell_type": "code",
			"source": "%help",
			"metadata": {
				"trusted": true,
				"editable": true
			},
			"execution_count": null,
			"outputs": []
		},
		{
			"cell_type": "markdown",
			"source": "####  Run this cell to set up and start your interactive session.\n",
			"metadata": {
				"editable": true,
				"trusted": true
			}
		},
		{
			"cell_type": "code",
			"source": "%idle_timeout 2880\n%glue_version 4.0\n%worker_type G.1X\n%number_of_workers 2\n%additional_python_modules faker\n# s3://essaimdev/glue_extra_requirements/deps.zip\n\nimport sys\nfrom awsglue.transforms import *\nfrom awsglue.utils import getResolvedOptions\nfrom pyspark.context import SparkContext\nfrom awsglue.context import GlueContext\nfrom awsglue.job import Job\n  \nsc = SparkContext.getOrCreate()\nglueContext = GlueContext(sc)\nspark = glueContext.spark_session\njob = Job(glueContext)",
			"metadata": {
				"trusted": true,
				"editable": true
			},
			"execution_count": 1,
			"outputs": [
				{
					"name": "stdout",
					"text": "Welcome to the Glue Interactive Sessions Kernel\nFor more information on available magic commands, please type %help in any new cell.\n\nPlease view our Getting Started page to access the most up-to-date information on the Interactive Sessions kernel: https://docs.aws.amazon.com/glue/latest/dg/interactive-sessions.html\nInstalled kernel version: 1.0.2 \nCurrent idle_timeout is None minutes.\nidle_timeout has been set to 2880 minutes.\nSetting Glue version to: 4.0\nPrevious worker type: None\nSetting new worker type to: G.1X\nPrevious number of workers: None\nSetting new number of workers to: 2\nAdditional python modules to be included:\nfaker\nTrying to create a Glue session for the kernel.\nSession Type: glueetl\nWorker Type: G.1X\nNumber of Workers: 2\nSession ID: ccf6ded2-1cb7-4d36-a1c5-f2118763c0df\nApplying the following default arguments:\n--glue_kernel_version 1.0.2\n--enable-glue-datacatalog true\n--additional-python-modules faker\nWaiting for session ccf6ded2-1cb7-4d36-a1c5-f2118763c0df to get into ready status...\nSession ccf6ded2-1cb7-4d36-a1c5-f2118763c0df has been created.\n\n",
					"output_type": "stream"
				}
			]
		},
		{
			"cell_type": "markdown",
			"source": "#### Example: Create a DynamicFrame from a table in the AWS Glue Data Catalog and display its schema\n",
			"metadata": {
				"editable": true,
				"trusted": true
			}
		},
		{
			"cell_type": "code",
			"source": "from awsglue.dynamicframe import DynamicFrameCollection\nfrom awsglue.dynamicframe import DynamicFrame\n\ndyf = glueContext.create_dynamic_frame.from_catalog(database='bank_statement', table_name='csv')\ndyf.printSchema()\ndfc = DynamicFrameCollection({'frame0': 'xx' }, glueContext)",
			"metadata": {
				"trusted": true,
				"editable": true
			},
			"execution_count": 7,
			"outputs": [
				{
					"name": "stdout",
					"text": "root\n|-- rivino: long\n|-- kirjauspäivä: string\n|-- arvopäivä: string\n|-- viite/viesti: string\n|-- kpl: string\n|-- määrä eur: double\n|-- kirjaussaldo eur: double\n|-- tila: string\n|-- arkistointitunnus: string\n|-- määrä eur (saldo): double\n",
					"output_type": "stream"
				}
			]
		},
		{
			"cell_type": "markdown",
			"source": "#### Example: Convert the DynamicFrame to a Spark DataFrame and display a sample of the data\n",
			"metadata": {
				"editable": true,
				"trusted": true
			}
		},
		{
			"cell_type": "code",
			"source": "df = dyf.toDF()\ndf.show()\npdf = df.toPandas()\nprint(pdf)",
			"metadata": {
				"trusted": true,
				"editable": true
			},
			"execution_count": 7,
			"outputs": [
				{
					"name": "stdout",
					"text": "+------+------------+----------+--------------------+---+---------+----------------+----------+--------------------+-----------------+\n|rivino|kirjauspäivä| arvopäivä|        viite/viesti|kpl|määrä eur|kirjaussaldo eur|      tila|   arkistointitunnus|määrä eur (saldo)|\n+------+------------+----------+--------------------+---+---------+----------------+----------+--------------------+-----------------+\n|     1|  02.01.2023|02.01.2023|       Mirjami Autio|   | -15000.0|         1712.98|Toteutunut|32MD      2594365362|          30393.4|\n|     2|  04.01.2023|04.01.2023|RF57200126320778 ...|   |    -62.0|          403.81|Toteutunut|  814697    00332320|         75126.36|\n|     3|  12.01.2023|12.01.2023|RF57200126320778 ...|   |     -2.6|           479.6|Toteutunut|32MD      2603436178|         51099.42|\n|     4|  12.01.2023|12.01.2023|Quality-focused r...|   | -5562.56|         2293.51|Toteutunut|4963      7263012527|          5836.29|\n|     5|  12.01.2023|12.01.2023|RF57200126320778 ...|   |  -5000.0|         5588.79|Toteutunut|32MD      2603440003|         35245.67|\n|     6|  23.01.2023|21.01.2023|      Lehtonen As Oy|   |  -2000.0|         3517.69|Toteutunut|32MD      2611119579|          6484.54|\n|     7|  23.01.2023|23.01.2023|           Kuisma Oy|   |  -343.41|         8378.03|Toteutunut|EOBCFE06  1009747017|         91194.78|\n|     8|  30.01.2023|30.01.2023|      Olavi Juntunen|   |   9300.0|         7669.74|Toteutunut|             C2M1220|         14356.95|\n|     9|  31.01.2023|31.01.2023|  Nikula Pietilä Tmi|   |  -5000.0|         1584.63|Toteutunut|32MD      2623432634|         29196.54|\n|    10|  31.01.2023|01.02.2023| Sallinen Jokinen Ky|   |   -25.33|         3172.36|Toteutunut|32MD      0400151223|         84511.14|\n|    11|  03.02.2023|03.02.2023|RF57200126320778 ...|   |  -3000.0|          387.19|Toteutunut|32MD      2626882074|         16958.81|\n|    12|  06.02.2023|06.02.2023|RF57200126320778 ...|   |    -62.0|          8876.5|Toteutunut|  814697    00332320|         64440.83|\n|    13|  13.02.2023|13.02.2023|RF57200126320778 ...|   | -2049.36|         5060.52|Toteutunut|4963      1363044183|         59068.55|\n|    14|  17.02.2023|17.02.2023|Intuitive 24hour ...|   |  -1000.0|          6511.7|Toteutunut|32MD      2637426152|         10883.28|\n|    15|  20.02.2023|20.02.2023|      Liisa Valtonen|   |    -1.47|         9930.02|Toteutunut|4963      2873051596|         13932.26|\n|    16|  23.02.2023|23.02.2023|  Nikula Pietilä Tmi|   |  -343.41|         8209.43|Toteutunut|EOBCFE06  0958820343|         81272.85|\n|    17|  28.02.2023|28.02.2023|RF57200126320778 ...|   |  19530.0|         8654.14|Toteutunut|             C2M1220|         70574.48|\n|    18|  28.02.2023|28.02.2023|RF57200126320778 ...|   |  -5000.0|         2702.35|Toteutunut|32MD      2650838556|         68039.38|\n|    19|  28.02.2023|28.02.2023| Sallinen Jokinen Ky|   | -2063.14|         3201.04|Toteutunut|32MD      2651129936|          84458.5|\n|    20|  28.02.2023|28.02.2023|Quality-focused r...|   |  -1000.0|         8613.01|Toteutunut|32MD      2651130676|         92307.08|\n+------+------------+----------+--------------------+---+---------+----------------+----------+--------------------+-----------------+\nonly showing top 20 rows\n\n     rivino kirjauspäivä  ...     arkistointitunnus määrä eur (saldo)\n0         1   02.01.2023  ...  32MD      2594365362          30393.40\n1         2   04.01.2023  ...    814697    00332320          75126.36\n2         3   12.01.2023  ...  32MD      2603436178          51099.42\n3         4   12.01.2023  ...  4963      7263012527           5836.29\n4         5   12.01.2023  ...  32MD      2603440003          35245.67\n..      ...          ...  ...                   ...               ...\n100     101   13.11.2023  ...  32MD      2910643191          58578.67\n101     102   15.11.2023  ...               C2M5062          11537.36\n102     103   20.11.2023  ...  4963      7563323956          29139.60\n103     104   23.11.2023  ...                                51327.14\n104     105   04.12.2023  ...                                 4267.45\n\n[105 rows x 10 columns]\n/opt/amazon/spark/python/lib/pyspark.zip/pyspark/sql/dataframe.py:127: UserWarning: DataFrame constructor is internal. Do not directly use it.\n  warnings.warn(\"DataFrame constructor is internal. Do not directly use it.\")\n",
					"output_type": "stream"
				}
			]
		},
		{
			"cell_type": "markdown",
			"source": "#### Example: Visualize data with matplotlib\n",
			"metadata": {
				"editable": true,
				"trusted": true
			}
		},
		{
			"cell_type": "code",
			"source": "from awsglue.dynamicframe import DynamicFrameCollection\nfrom awsglue.dynamicframe import DynamicFrame\n\ndyf = glueContext.create_dynamic_frame.from_catalog(database='bank_statement', table_name='csv')\ndyf.printSchema()\ndfc = DynamicFrameCollection({'frame0': dyf }, glueContext)\n\ndef MyTransform (glueContext, dfc) -> DynamicFrameCollection:\n    logger = glueContext.get_logger()\n    frame_name = list(dfc.keys())[0]\n    logger.info('frame_name ' + frame_name)\n    print('frame_name ' + frame_name)\n    \n    dyf = dfc.select(frame_name)\n    \n    #import numpy as np\n    from random import randint\n    from faker import Faker\n    \n    fake = Faker(\"fi-FI\")\n    \n    viiteset = []\n    for _ in range(5):\n        viiteset.extend(\n            (\n                    fake.company(),\n                    fake.name(),\n                    fake.catch_phrase(),\n                    \"600109898403 OmaVero FI5689199710000724\",\n                    \"RF57200126320778 Verohallinto FI5689199710000724\",\n                )\n            )\n            \n    def mask(rec):\n        rec['määrä eur'] = randint(-10000,10000)/100 # fake.pyfloat(5, 2, True)\n        rec['kirjaussaldo eur'] = randint(-10000,10000)/100\n        rec['viite/viesti'] = viiteset[ randint(0, 4 )] #np.random.choice(viiteset)\n        return rec\n    print(dyf)\n    masked_dynamicframe = dyf.map( f = mask ) # Map.apply(frame=dyf, f=mask)\n    return (DynamicFrameCollection({frame_name: masked_dynamicframe}, glueContext))\n\nMyTransform(glueContext, dfc)",
			"metadata": {
				"trusted": true,
				"tags": []
			},
			"execution_count": 19,
			"outputs": [
				{
					"name": "stdout",
					"text": "root\n|-- rivino: long\n|-- kirjauspäivä: string\n|-- arvopäivä: string\n|-- viite/viesti: string\n|-- kpl: string\n|-- määrä eur: double\n|-- kirjaussaldo eur: double\n|-- tila: string\n|-- arkistointitunnus: string\n|-- määrä eur (saldo): double\n\nframe_name frame0\n<awsglue.dynamicframe.DynamicFrame object at 0x7f7b31e4c760>\n<awsglue.dynamicframe.DynamicFrameCollection object at 0x7f7b31e4c8e0>\n",
					"output_type": "stream"
				}
			]
		},
		{
			"cell_type": "markdown",
			"source": "#### Example: Write the data in the DynamicFrame to a location in Amazon S3 and a table for it in the AWS Glue Data Catalog\n",
			"metadata": {
				"editable": true,
				"trusted": true
			}
		}
	]
}